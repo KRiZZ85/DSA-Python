{
 "cells": [
  {
   "cell_type": "code",
   "execution_count": 3,
   "id": "edc52b8f-929a-4b6e-8bba-e17cb586250b",
   "metadata": {},
   "outputs": [
    {
     "name": "stdout",
     "output_type": "stream",
     "text": [
      "[26, 21, 16]\n",
      "[59, 48, 37]\n"
     ]
    }
   ],
   "source": [
    "#Matrix Multiplication \n",
    "a=[[2,3,4],\n",
    "   [5,6,7]]\n",
    "b=[[7,6,5],\n",
    "   [4,3,2]]\n",
    "c=[[0,0,0],\n",
    "        [0,0,0]]\n",
    "for i in range(len(a)):\n",
    "    for j in range(len(b[0])):\n",
    "        for k in range(len(b)):\n",
    "            c[i][j] += a[i][k] * b[k][j]\n",
    "for r in c:\n",
    "    print(r)"
   ]
  },
  {
   "cell_type": "code",
   "execution_count": 6,
   "id": "657b5eb0-c767-42dd-beb6-7aa47ddc7bc1",
   "metadata": {},
   "outputs": [
    {
     "name": "stdout",
     "output_type": "stream",
     "text": [
      "[1, 4]\n",
      "[2, 5]\n",
      "[3, 6]\n"
     ]
    }
   ],
   "source": [
    "#Matrix Transpose \n",
    "a= [[1, 2, 3], \n",
    "    [4, 5, 6]]\n",
    "row=len(a)\n",
    "col=len(a[0])\n",
    "transpose=[]\n",
    "for i in range(col):\n",
    "    transpose.append([0]*row)\n",
    "for j in range(row):\n",
    "    for k in range(col):\n",
    "        transpose[k][j] = a[j][k]\n",
    "for row in transpose:\n",
    "    print(row)"
   ]
  },
  {
   "cell_type": "code",
   "execution_count": null,
   "id": "3c5113b8-18b2-4383-8b9c-cbddcb19bfb1",
   "metadata": {},
   "outputs": [],
   "source": []
  }
 ],
 "metadata": {
  "kernelspec": {
   "display_name": "Python 3 (ipykernel)",
   "language": "python",
   "name": "python3"
  },
  "language_info": {
   "codemirror_mode": {
    "name": "ipython",
    "version": 3
   },
   "file_extension": ".py",
   "mimetype": "text/x-python",
   "name": "python",
   "nbconvert_exporter": "python",
   "pygments_lexer": "ipython3",
   "version": "3.12.7"
  }
 },
 "nbformat": 4,
 "nbformat_minor": 5
}
