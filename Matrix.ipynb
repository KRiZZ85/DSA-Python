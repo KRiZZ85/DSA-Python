{
 "cells": [
  {
   "cell_type": "code",
   "execution_count": 3,
   "id": "edc52b8f-929a-4b6e-8bba-e17cb586250b",
   "metadata": {},
   "outputs": [
    {
     "name": "stdout",
     "output_type": "stream",
     "text": [
      "[26, 21, 16]\n",
      "[59, 48, 37]\n"
     ]
    }
   ],
   "source": [
    "#Matrix Multiplication \n",
    "a=[[2,3,4],\n",
    "   [5,6,7]]\n",
    "b=[[7,6,5],\n",
    "   [4,3,2]]\n",
    "c=[[0,0,0],\n",
    "        [0,0,0]]\n",
    "for i in range(len(a)):\n",
    "    for j in range(len(b[0])):\n",
    "        for k in range(len(b)):\n",
    "            c[i][j] += a[i][k] * b[k][j]\n",
    "for r in c:\n",
    "    print(r)"
   ]
  },
  {
   "cell_type": "code",
   "execution_count": 5,
   "id": "657b5eb0-c767-42dd-beb6-7aa47ddc7bc1",
   "metadata": {},
   "outputs": [
    {
     "ename": "NameError",
     "evalue": "name 'trandpose' is not defined",
     "output_type": "error",
     "traceback": [
      "\u001b[1;31m---------------------------------------------------------------------------\u001b[0m",
      "\u001b[1;31mNameError\u001b[0m                                 Traceback (most recent call last)",
      "Cell \u001b[1;32mIn[5], line 8\u001b[0m\n\u001b[0;32m      6\u001b[0m transpose\u001b[38;5;241m=\u001b[39m[]\n\u001b[0;32m      7\u001b[0m \u001b[38;5;28;01mfor\u001b[39;00m i \u001b[38;5;129;01min\u001b[39;00m \u001b[38;5;28mrange\u001b[39m(col):\n\u001b[1;32m----> 8\u001b[0m     trandpose\u001b[38;5;241m.\u001b[39mappend([\u001b[38;5;241m0\u001b[39m]\u001b[38;5;241m*\u001b[39mrow)\n\u001b[0;32m      9\u001b[0m \u001b[38;5;28;01mfor\u001b[39;00m j \u001b[38;5;129;01min\u001b[39;00m \u001b[38;5;28mrange\u001b[39m(row):\n\u001b[0;32m     10\u001b[0m     \u001b[38;5;28;01mfor\u001b[39;00m k \u001b[38;5;129;01min\u001b[39;00m \u001b[38;5;28mrange\u001b[39m(col):\n",
      "\u001b[1;31mNameError\u001b[0m: name 'trandpose' is not defined"
     ]
    }
   ],
   "source": [
    "#Matrix Transpose \n",
    "a= [[1, 2, 3], \n",
    "    [4, 5, 6]]\n",
    "row=len(a)\n",
    "col=len(a[0])\n",
    "transpose=[]\n",
    "for i in range(col):\n",
    "    trandpose.append([0]*row)\n",
    "for j in range(row):\n",
    "    for k in range(col):\n",
    "        transpose[k][j] = a[j][k]\n",
    "for row in transpose:\n",
    "    print(row)"
   ]
  },
  {
   "cell_type": "code",
   "execution_count": null,
   "id": "3c5113b8-18b2-4383-8b9c-cbddcb19bfb1",
   "metadata": {},
   "outputs": [],
   "source": []
  }
 ],
 "metadata": {
  "kernelspec": {
   "display_name": "Python 3 (ipykernel)",
   "language": "python",
   "name": "python3"
  },
  "language_info": {
   "codemirror_mode": {
    "name": "ipython",
    "version": 3
   },
   "file_extension": ".py",
   "mimetype": "text/x-python",
   "name": "python",
   "nbconvert_exporter": "python",
   "pygments_lexer": "ipython3",
   "version": "3.12.7"
  }
 },
 "nbformat": 4,
 "nbformat_minor": 5
}
